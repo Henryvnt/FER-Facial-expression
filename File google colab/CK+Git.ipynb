{
  "nbformat": 4,
  "nbformat_minor": 0,
  "metadata": {
    "colab": {
      "name": "CK+Git.ipynb",
      "provenance": [],
      "collapsed_sections": []
    },
    "kernelspec": {
      "name": "python3",
      "display_name": "Python 3"
    },
    "accelerator": "GPU"
  },
  "cells": [
    {
      "cell_type": "code",
      "metadata": {
        "id": "HQ8vb9_dVinL",
        "colab_type": "code",
        "outputId": "d307af1d-e89e-4c8a-ede5-0719752c8b82",
        "colab": {
          "base_uri": "https://localhost:8080/",
          "height": 122
        }
      },
      "source": [
        "from google.colab import drive\n",
        "drive.mount('/content/gdrive')"
      ],
      "execution_count": 1,
      "outputs": [
        {
          "output_type": "stream",
          "text": [
            "Go to this URL in a browser: https://accounts.google.com/o/oauth2/auth?client_id=947318989803-6bn6qk8qdgf4n4g3pfee6491hc0brc4i.apps.googleusercontent.com&redirect_uri=urn%3aietf%3awg%3aoauth%3a2.0%3aoob&response_type=code&scope=email%20https%3a%2f%2fwww.googleapis.com%2fauth%2fdocs.test%20https%3a%2f%2fwww.googleapis.com%2fauth%2fdrive%20https%3a%2f%2fwww.googleapis.com%2fauth%2fdrive.photos.readonly%20https%3a%2f%2fwww.googleapis.com%2fauth%2fpeopleapi.readonly\n",
            "\n",
            "Enter your authorization code:\n",
            "··········\n",
            "Mounted at /content/gdrive\n"
          ],
          "name": "stdout"
        }
      ]
    },
    {
      "cell_type": "code",
      "metadata": {
        "id": "fWnu97aQiXSA",
        "colab_type": "code",
        "outputId": "f88ed04f-5972-4dd3-d99b-3228e6bf9fb1",
        "colab": {
          "base_uri": "https://localhost:8080/",
          "height": 34
        }
      },
      "source": [
        "1. #import lib\n",
        "# Import libraries# Impor \n",
        "import os,cv2\n",
        "import random\n",
        "import numpy as np\n",
        "import keras\n",
        "import matplotlib.pyplot as plt\n",
        "import matplotlib.image as mpimg\n",
        "from pylab import rcParams\n",
        "rcParams['figure.figsize'] = 20, 10\n",
        "import sklearn\n",
        "from sklearn.utils import shuffle\n",
        "from sklearn.model_selection import train_test_split\n",
        "from sklearn.model_selection import KFold\n",
        "from keras import callbacks\n",
        "\n",
        "from keras.utils import np_utils\n",
        "\n",
        "from keras import backend as K\n",
        "\n",
        "from keras.models import Sequential\n",
        "from keras.layers.core import Dense, Dropout, Activation, Flatten\n",
        "from keras.layers.convolutional import Convolution2D, MaxPooling2D\n",
        "from keras.optimizers import SGD,RMSprop,adam\n",
        "from keras.preprocessing.image import ImageDataGenerator"
      ],
      "execution_count": 1,
      "outputs": [
        {
          "output_type": "stream",
          "text": [
            "Using TensorFlow backend.\n"
          ],
          "name": "stderr"
        }
      ]
    },
    {
      "cell_type": "code",
      "metadata": {
        "id": "9g5I3K_yjFGz",
        "colab_type": "code",
        "outputId": "9bd0d730-21cf-462e-9d40-0dd2150d6dbb",
        "colab": {
          "base_uri": "https://localhost:8080/",
          "height": 357
        }
      },
      "source": [
        "#2. Load data\n",
        "#Define Datapath\n",
        "data_path = \"/content/gdrive/My Drive/Machine learing/Pre-process/CK+/CK+ 6 E \"\n",
        "data_dir_list = os.listdir(data_path)\n",
        "\n",
        "\"\"\"img_rows=256\n",
        "img_cols=256\n",
        "num_channel=1\n",
        "\n",
        "num_epoch=10\"\"\"\n",
        "\n",
        "img_data_list=[]\n",
        "\n",
        "nb_img=0\n",
        "random.seed(10)\n",
        "for dataset in data_dir_list:\n",
        "    img_list=os.listdir(data_path+'/'+ dataset)\n",
        "    print ('Loaded the images of dataset-'+'{}\\n'.format(dataset))\n",
        "    print(\"Tong cac anh trong \",dataset,\"la: \",len(img_list))\n",
        "    for img in img_list:\n",
        "        input_img=cv2.imread(data_path + '/'+ dataset + '/'+ img )\n",
        "        #input_img=cv2.cvtColor(input_img, cv2.COLOR_BGR2GRAY)\n",
        "        input_img_resize=cv2.resize(input_img,(32,32))\n",
        "        img_data_list.append(input_img_resize)\n",
        "        nb_img+=1\n",
        "print(\"Tong img: \",nb_img)\n",
        "        \n",
        "img_data = np.array(img_data_list)\n",
        "img_data = img_data.astype('float32')\n",
        "img_data = img_data/255\n",
        "img_data.shape\n"
      ],
      "execution_count": 2,
      "outputs": [
        {
          "output_type": "stream",
          "text": [
            "Loaded the images of dataset-anger\n",
            "\n",
            "Tong cac anh trong  anger la:  135\n",
            "Loaded the images of dataset-disgust\n",
            "\n",
            "Tong cac anh trong  disgust la:  177\n",
            "Loaded the images of dataset-fear\n",
            "\n",
            "Tong cac anh trong  fear la:  75\n",
            "Loaded the images of dataset-happy\n",
            "\n",
            "Tong cac anh trong  happy la:  207\n",
            "Loaded the images of dataset-sadness\n",
            "\n",
            "Tong cac anh trong  sadness la:  83\n",
            "Loaded the images of dataset-surprise\n",
            "\n",
            "Tong cac anh trong  surprise la:  249\n",
            "Tong img:  926\n"
          ],
          "name": "stdout"
        },
        {
          "output_type": "execute_result",
          "data": {
            "text/plain": [
              "(926, 32, 32, 3)"
            ]
          },
          "metadata": {
            "tags": []
          },
          "execution_count": 2
        }
      ]
    },
    {
      "cell_type": "code",
      "metadata": {
        "id": "7S3JSMGlmgJ5",
        "colab_type": "code",
        "colab": {}
      },
      "source": [
        "#3. Define labels:\n",
        "num_classes = 6\n",
        "\n",
        "num_of_samples = img_data.shape[0]\n",
        "labels = np.ones((num_of_samples,),dtype='int64')\n",
        "#= sh-1+so dau\n",
        "labels[0:134]=0 #anger la:  135  0\n",
        "labels[135:383]=5 #surprise la:  249 5\n",
        "labels[384:466]=4 #sadness la:  83 4\n",
        "labels[467:673]=3 #happy la:  207 3\n",
        "labels[674:748]=2 #fear la:  75 2\n",
        "labels[749:925]=1 #disgust la:  177 1\n",
        "\n",
        "\n",
        "names = ['anger','surprise','sadness','happy','fear','disgust']\n",
        "\n",
        "def getLabel(id):\n",
        "    return ['anger','surprise','sadness','happy','fear','disgust'][id]"
      ],
      "execution_count": 0,
      "outputs": []
    },
    {
      "cell_type": "code",
      "metadata": {
        "id": "n5xbv4Nfny-I",
        "colab_type": "code",
        "colab": {}
      },
      "source": [
        "#4.Convert the class label to one-hot encoding\n",
        "# convert class labels to on-hot encoding# conve \n",
        "Y = np_utils.to_categorical(labels, num_classes)\n",
        "\n",
        "#Shuffle the dataset\n",
        "random.seed(10)\n",
        "x,y = shuffle(img_data,Y, random_state=2)\n",
        "x,y = shuffle(img_data,Y, random_state=3)\n",
        "\n",
        "# Split the dataset\n",
        "#X_train, X_test, y_train, y_test = train_test_split(x, y, test_size=0.15, random_state=2)"
      ],
      "execution_count": 0,
      "outputs": []
    },
    {
      "cell_type": "code",
      "metadata": {
        "id": "uBVYYKFvi_Ix",
        "colab_type": "code",
        "outputId": "cdf85e23-73f2-4c84-b282-52d030d1d884",
        "colab": {
          "base_uri": "https://localhost:8080/",
          "height": 34
        }
      },
      "source": [
        "print(x[0].shape)"
      ],
      "execution_count": 0,
      "outputs": [
        {
          "output_type": "stream",
          "text": [
            "(32, 32, 3)\n"
          ],
          "name": "stdout"
        }
      ]
    },
    {
      "cell_type": "code",
      "metadata": {
        "id": "LKPJ-N0NkLUh",
        "colab_type": "code",
        "colab": {}
      },
      "source": [
        "#import tensorflow as tf\n",
        "#from tensorflow.keras.layers import Convolution2D, Flatten, MaxPooling2D, Dropout, Dense, Input\n",
        "from keras.layers import BatchNormalization,Convolution2D, Flatten, MaxPooling2D, Dropout, Dense, Input\n",
        "from tensorflow.keras import activations"
      ],
      "execution_count": 0,
      "outputs": []
    },
    {
      "cell_type": "code",
      "metadata": {
        "id": "qjMKqRZEn3fb",
        "colab_type": "code",
        "outputId": "dc9015ee-6ab2-4099-ec53-e9ae4fe72b4b",
        "colab": {
          "base_uri": "https://localhost:8080/",
          "height": 459
        }
      },
      "source": [
        "#5.CNN\n",
        "num_classes = 6\n",
        "#tensorflow.keras.\n",
        "model = Sequential()\n",
        "#add kernel_regularizer=l2(0.0005) neu overfitting\n",
        "model.add(Convolution2D(32, (5, 5),strides=(1,1),input_shape=x[0].shape))\n",
        "model.add(Dropout(0.2))\n",
        "model.add(MaxPooling2D(pool_size=(2, 2)))\n",
        "model.add(Convolution2D(2, (7,7),strides=(1,1),activation =\"relu\",\n",
        "                padding=\"valid\"))\n",
        "\n",
        "model.add(MaxPooling2D(pool_size=(2, 2)))\n",
        "model.add(Flatten())\n",
        "model.add(Dense(256))\n",
        "model.add(Dropout(0.2))\n",
        "#tf.\n",
        "model.add(keras.layers.Dense(num_classes, activation='softmax'))\n",
        "model.summary()\n",
        "\n",
        "\n",
        "#Compile Model\n",
        "model.compile(loss='categorical_crossentropy', optimizer='adam',metrics=[\"accuracy\"])"
      ],
      "execution_count": 6,
      "outputs": [
        {
          "output_type": "stream",
          "text": [
            "Model: \"sequential_1\"\n",
            "_________________________________________________________________\n",
            "Layer (type)                 Output Shape              Param #   \n",
            "=================================================================\n",
            "conv2d_1 (Conv2D)            (None, 28, 28, 32)        2432      \n",
            "_________________________________________________________________\n",
            "dropout_1 (Dropout)          (None, 28, 28, 32)        0         \n",
            "_________________________________________________________________\n",
            "max_pooling2d_1 (MaxPooling2 (None, 14, 14, 32)        0         \n",
            "_________________________________________________________________\n",
            "conv2d_2 (Conv2D)            (None, 8, 8, 2)           3138      \n",
            "_________________________________________________________________\n",
            "max_pooling2d_2 (MaxPooling2 (None, 4, 4, 2)           0         \n",
            "_________________________________________________________________\n",
            "flatten_1 (Flatten)          (None, 32)                0         \n",
            "_________________________________________________________________\n",
            "dense_1 (Dense)              (None, 256)               8448      \n",
            "_________________________________________________________________\n",
            "dropout_2 (Dropout)          (None, 256)               0         \n",
            "_________________________________________________________________\n",
            "dense_2 (Dense)              (None, 6)                 1542      \n",
            "=================================================================\n",
            "Total params: 15,560\n",
            "Trainable params: 15,560\n",
            "Non-trainable params: 0\n",
            "_________________________________________________________________\n"
          ],
          "name": "stdout"
        }
      ]
    },
    {
      "cell_type": "code",
      "metadata": {
        "id": "eNnM8HtVXnVP",
        "colab_type": "code",
        "colab": {}
      },
      "source": [
        "def CNN():\n",
        "    #5.CNN\n",
        "  num_classes = 6\n",
        "  #tensorflow.keras.\n",
        "  model = Sequential()\n",
        "  #add kernel_regularizer=l2(0.0005) neu overfitting\n",
        "  model.add(Convolution2D(32, (5, 5),strides=(1,1),input_shape=x[0].shape))\n",
        "  model.add(Dropout(0.2))\n",
        "  model.add(MaxPooling2D(pool_size=(2, 2)))\n",
        "  model.add(Convolution2D(2, (7,7),strides=(1,1),activation =\"relu\",\n",
        "                  padding=\"valid\"))\n",
        "\n",
        "  model.add(MaxPooling2D(pool_size=(2, 2)))\n",
        "  model.add(Flatten())\n",
        "  model.add(Dense(256))\n",
        "  model.add(Dropout(0.2))\n",
        "  #tf.\n",
        "  model.add(keras.layers.Dense(num_classes, activation='softmax'))\n",
        "  model.summary()\n",
        "\n",
        "\n",
        "  #Compile Model\n",
        "  model.compile(loss='categorical_crossentropy', optimizer='adam',metrics=[\"accuracy\"])"
      ],
      "execution_count": 0,
      "outputs": []
    },
    {
      "cell_type": "code",
      "metadata": {
        "id": "_EP_uUXfXyAS",
        "colab_type": "code",
        "colab": {}
      },
      "source": [
        "filename='/content/gdrive/My Drive/Machine learing/Test/Final Pr_3/Result/model/model_train_new.csv'\n",
        "filepath=\"/content/gdrive/My Drive/Machine learing/Test/Final Pr_3/Result/model/model_weight.hdf5\"\n",
        "\n",
        "csv_log=callbacks.CSVLogger(filename, separator=',', append=False)\n",
        "checkpoint = callbacks.ModelCheckpoint(filepath, monitor='val_loss', verbose=1, save_best_only=True, mode='min')\n",
        "callbacks_list = [csv_log,checkpoint]\n",
        "callbacks_list = [csv_log]"
      ],
      "execution_count": 0,
      "outputs": []
    },
    {
      "cell_type": "code",
      "metadata": {
        "id": "H7OGvhRxsEzq",
        "colab_type": "code",
        "colab": {}
      },
      "source": [
        "#6. Run k-fold for trainning\n",
        "def call_back():\n",
        "  filename='/content/gdrive/My Drive/Machine learing/Test/Final Pr_3/Result/model/model_train_new.csv'\n",
        "  filepath=\"/content/gdrive/My Drive/Machine learing/Test/Final Pr_3/Result/model/model_weight.hdf5\"\n",
        "\n",
        "  csv_log=callbacks.CSVLogger(filename, separator=',', append=False)\n",
        "  checkpoint = callbacks.ModelCheckpoint(filepath, monitor='val_loss', verbose=1, save_best_only=True, mode='min')\n",
        "  callbacks_list = [csv_log,checkpoint]\n",
        "  callbacks_list = [csv_log]"
      ],
      "execution_count": 0,
      "outputs": []
    },
    {
      "cell_type": "code",
      "metadata": {
        "id": "vEMzOntlYnND",
        "colab_type": "code",
        "colab": {
          "base_uri": "https://localhost:8080/",
          "height": 51
        },
        "outputId": "99af0af2-fc80-4ad7-f67d-9846b1cd9894"
      },
      "source": [
        "x=[]\n",
        "x =[1,2]\n",
        "print(x)\n",
        "x=[]\n",
        "print(x)"
      ],
      "execution_count": 12,
      "outputs": [
        {
          "output_type": "stream",
          "text": [
            "[1, 2]\n",
            "[]\n"
          ],
          "name": "stdout"
        }
      ]
    },
    {
      "cell_type": "code",
      "metadata": {
        "id": "dkL_SSw7RSBf",
        "colab_type": "code",
        "outputId": "c86047ee-e585-44f8-ba5f-11e1b7cecea3",
        "colab": {
          "base_uri": "https://localhost:8080/",
          "height": 1000
        }
      },
      "source": [
        "accuracy_trainning = []\n",
        "mean=1\n",
        "totally_acc = 0\n",
        "n=0\n",
        "k_fold = 8\n",
        "#best_svr = SVR(kernel='rbf')\n",
        "cv = KFold(n_splits=k_fold, random_state=42, shuffle=True)\n",
        "for train_index, test_index in cv.split(x):\n",
        "    hist = []\n",
        "    #print(\"Train Index: \", train_index, \"\\n\")\n",
        "    #print(\"Test Index: \", test_index)\n",
        "    n +=1\n",
        "    print(\"fold: \",n)\n",
        "    x_train, x_test, y_train, y_test = x[train_index], x[test_index], y[train_index], y[test_index]\n",
        "    hist = model.fit(x_train, y_train, batch_size=7, epochs=8,validation_data=(x_test, y_test), verbose=1,callbacks=callbacks_list)\n",
        "    \n",
        "    # Evaluating the model\n",
        "    score = model.evaluate(x_test, y_test, verbose=0)\n",
        "    score, accuracy = model.evaluate(x_test, y_test)\n",
        "    print(\"Acurracy on validation data: \", accuracy)\n",
        "    if n==1:\n",
        "      totally_acc = accuracy\n",
        "      #print(\" Accuracy init: \",totally_acc)\n",
        "    elif n == k_fold:\n",
        "      mean = (totally_acc+ accuracy)/n\n",
        "      print(\" Mean Accurracy: \", mean)\n",
        "    else:\n",
        "      totally_acc += accuracy\n",
        "      #print(\"Total acc: \",totally_acc)\n",
        "   \n",
        "      "
      ],
      "execution_count": 8,
      "outputs": [
        {
          "output_type": "stream",
          "text": [
            "fold:  1\n",
            "Train on 810 samples, validate on 116 samples\n",
            "Epoch 1/8\n",
            "810/810 [==============================] - 2s 2ms/step - loss: 1.7293 - accuracy: 0.2383 - val_loss: 1.6771 - val_accuracy: 0.2586\n",
            "Epoch 2/8\n",
            "810/810 [==============================] - 0s 585us/step - loss: 1.5883 - accuracy: 0.3210 - val_loss: 1.4244 - val_accuracy: 0.3190\n",
            "Epoch 3/8\n",
            "810/810 [==============================] - 0s 582us/step - loss: 1.2442 - accuracy: 0.4568 - val_loss: 1.2158 - val_accuracy: 0.5086\n",
            "Epoch 4/8\n",
            "810/810 [==============================] - 0s 587us/step - loss: 1.0957 - accuracy: 0.5062 - val_loss: 1.1503 - val_accuracy: 0.5259\n",
            "Epoch 5/8\n",
            "810/810 [==============================] - 0s 581us/step - loss: 1.0327 - accuracy: 0.5444 - val_loss: 1.1235 - val_accuracy: 0.5259\n",
            "Epoch 6/8\n",
            "810/810 [==============================] - 0s 583us/step - loss: 0.9732 - accuracy: 0.5728 - val_loss: 1.0562 - val_accuracy: 0.5690\n",
            "Epoch 7/8\n",
            "810/810 [==============================] - 0s 586us/step - loss: 0.9261 - accuracy: 0.5914 - val_loss: 1.0071 - val_accuracy: 0.6121\n",
            "Epoch 8/8\n",
            "810/810 [==============================] - 0s 585us/step - loss: 0.8823 - accuracy: 0.6185 - val_loss: 0.9296 - val_accuracy: 0.5948\n",
            "116/116 [==============================] - 0s 85us/step\n",
            "Acurracy on validation data:  0.5948275923728943\n",
            "fold:  2\n",
            "Train on 810 samples, validate on 116 samples\n",
            "Epoch 1/8\n",
            "810/810 [==============================] - 0s 589us/step - loss: 0.8317 - accuracy: 0.6259 - val_loss: 0.7905 - val_accuracy: 0.6638\n",
            "Epoch 2/8\n",
            "810/810 [==============================] - 0s 581us/step - loss: 0.8118 - accuracy: 0.6654 - val_loss: 0.7594 - val_accuracy: 0.6897\n",
            "Epoch 3/8\n",
            "810/810 [==============================] - 0s 589us/step - loss: 0.7718 - accuracy: 0.6815 - val_loss: 0.8152 - val_accuracy: 0.6897\n",
            "Epoch 4/8\n",
            "810/810 [==============================] - 0s 573us/step - loss: 0.7514 - accuracy: 0.6975 - val_loss: 0.7444 - val_accuracy: 0.6983\n",
            "Epoch 5/8\n",
            "810/810 [==============================] - 0s 578us/step - loss: 0.7236 - accuracy: 0.7086 - val_loss: 0.7043 - val_accuracy: 0.6638\n",
            "Epoch 6/8\n",
            "810/810 [==============================] - 0s 582us/step - loss: 0.6855 - accuracy: 0.7062 - val_loss: 0.6581 - val_accuracy: 0.7241\n",
            "Epoch 7/8\n",
            "810/810 [==============================] - 0s 591us/step - loss: 0.6887 - accuracy: 0.7185 - val_loss: 0.6433 - val_accuracy: 0.6983\n",
            "Epoch 8/8\n",
            "810/810 [==============================] - 0s 587us/step - loss: 0.6242 - accuracy: 0.7370 - val_loss: 0.7718 - val_accuracy: 0.7155\n",
            "116/116 [==============================] - 0s 82us/step\n",
            "Acurracy on validation data:  0.7155172228813171\n",
            "fold:  3\n",
            "Train on 810 samples, validate on 116 samples\n",
            "Epoch 1/8\n",
            "810/810 [==============================] - 0s 590us/step - loss: 0.6441 - accuracy: 0.7259 - val_loss: 0.6181 - val_accuracy: 0.7672\n",
            "Epoch 2/8\n",
            "810/810 [==============================] - 0s 590us/step - loss: 0.6139 - accuracy: 0.7568 - val_loss: 0.5895 - val_accuracy: 0.7759\n",
            "Epoch 3/8\n",
            "810/810 [==============================] - 0s 588us/step - loss: 0.5864 - accuracy: 0.7457 - val_loss: 0.5830 - val_accuracy: 0.7845\n",
            "Epoch 4/8\n",
            "810/810 [==============================] - 0s 587us/step - loss: 0.5840 - accuracy: 0.7630 - val_loss: 0.5762 - val_accuracy: 0.8017\n",
            "Epoch 5/8\n",
            "810/810 [==============================] - 0s 578us/step - loss: 0.5833 - accuracy: 0.7370 - val_loss: 0.5733 - val_accuracy: 0.7845\n",
            "Epoch 6/8\n",
            "810/810 [==============================] - 0s 587us/step - loss: 0.5621 - accuracy: 0.7469 - val_loss: 0.5427 - val_accuracy: 0.8190\n",
            "Epoch 7/8\n",
            "810/810 [==============================] - 0s 574us/step - loss: 0.5333 - accuracy: 0.7815 - val_loss: 0.5587 - val_accuracy: 0.7845\n",
            "Epoch 8/8\n",
            "810/810 [==============================] - 0s 586us/step - loss: 0.5172 - accuracy: 0.7741 - val_loss: 0.5569 - val_accuracy: 0.8017\n",
            "116/116 [==============================] - 0s 94us/step\n",
            "Acurracy on validation data:  0.8017241358757019\n",
            "fold:  4\n",
            "Train on 810 samples, validate on 116 samples\n",
            "Epoch 1/8\n",
            "810/810 [==============================] - 0s 593us/step - loss: 0.5612 - accuracy: 0.7704 - val_loss: 0.4907 - val_accuracy: 0.7586\n",
            "Epoch 2/8\n",
            "810/810 [==============================] - 0s 577us/step - loss: 0.5294 - accuracy: 0.7778 - val_loss: 0.5528 - val_accuracy: 0.7069\n",
            "Epoch 3/8\n",
            "810/810 [==============================] - 0s 587us/step - loss: 0.5002 - accuracy: 0.7938 - val_loss: 0.5374 - val_accuracy: 0.7414\n",
            "Epoch 4/8\n",
            "810/810 [==============================] - 0s 581us/step - loss: 0.5072 - accuracy: 0.7840 - val_loss: 0.6069 - val_accuracy: 0.7155\n",
            "Epoch 5/8\n",
            "810/810 [==============================] - 0s 584us/step - loss: 0.4792 - accuracy: 0.7951 - val_loss: 0.5155 - val_accuracy: 0.7586\n",
            "Epoch 6/8\n",
            "810/810 [==============================] - 0s 577us/step - loss: 0.4819 - accuracy: 0.7938 - val_loss: 0.5553 - val_accuracy: 0.7155\n",
            "Epoch 7/8\n",
            "810/810 [==============================] - 0s 583us/step - loss: 0.4961 - accuracy: 0.7938 - val_loss: 0.5328 - val_accuracy: 0.7414\n",
            "Epoch 8/8\n",
            "810/810 [==============================] - 0s 571us/step - loss: 0.4925 - accuracy: 0.7852 - val_loss: 0.6075 - val_accuracy: 0.7155\n",
            "116/116 [==============================] - 0s 79us/step\n",
            "Acurracy on validation data:  0.7155172228813171\n",
            "fold:  5\n",
            "Train on 810 samples, validate on 116 samples\n",
            "Epoch 1/8\n",
            "810/810 [==============================] - 0s 572us/step - loss: 0.4723 - accuracy: 0.7889 - val_loss: 0.4737 - val_accuracy: 0.7672\n",
            "Epoch 2/8\n",
            "810/810 [==============================] - 0s 592us/step - loss: 0.4429 - accuracy: 0.8148 - val_loss: 0.4928 - val_accuracy: 0.7672\n",
            "Epoch 3/8\n",
            "810/810 [==============================] - 0s 608us/step - loss: 0.4566 - accuracy: 0.8074 - val_loss: 0.7443 - val_accuracy: 0.6810\n",
            "Epoch 4/8\n",
            "810/810 [==============================] - 0s 589us/step - loss: 0.4594 - accuracy: 0.8062 - val_loss: 0.4976 - val_accuracy: 0.7672\n",
            "Epoch 5/8\n",
            "810/810 [==============================] - 0s 591us/step - loss: 0.4620 - accuracy: 0.8049 - val_loss: 0.5500 - val_accuracy: 0.7586\n",
            "Epoch 6/8\n",
            "810/810 [==============================] - 0s 581us/step - loss: 0.4009 - accuracy: 0.8185 - val_loss: 0.5794 - val_accuracy: 0.7241\n",
            "Epoch 7/8\n",
            "810/810 [==============================] - 0s 610us/step - loss: 0.4228 - accuracy: 0.8259 - val_loss: 0.5243 - val_accuracy: 0.7586\n",
            "Epoch 8/8\n",
            "810/810 [==============================] - 0s 582us/step - loss: 0.4197 - accuracy: 0.8099 - val_loss: 0.5812 - val_accuracy: 0.7414\n",
            "116/116 [==============================] - 0s 86us/step\n",
            "Acurracy on validation data:  0.7413793206214905\n",
            "fold:  6\n",
            "Train on 810 samples, validate on 116 samples\n",
            "Epoch 1/8\n",
            "810/810 [==============================] - 0s 598us/step - loss: 0.4412 - accuracy: 0.8062 - val_loss: 0.5357 - val_accuracy: 0.7845\n",
            "Epoch 2/8\n",
            "810/810 [==============================] - 0s 584us/step - loss: 0.4513 - accuracy: 0.8037 - val_loss: 0.4356 - val_accuracy: 0.8362\n",
            "Epoch 3/8\n",
            "810/810 [==============================] - 0s 579us/step - loss: 0.3955 - accuracy: 0.8198 - val_loss: 0.4505 - val_accuracy: 0.8103\n",
            "Epoch 4/8\n",
            "810/810 [==============================] - 0s 591us/step - loss: 0.4073 - accuracy: 0.8099 - val_loss: 0.4231 - val_accuracy: 0.8190\n",
            "Epoch 5/8\n",
            "810/810 [==============================] - 0s 582us/step - loss: 0.4225 - accuracy: 0.8123 - val_loss: 0.4229 - val_accuracy: 0.7845\n",
            "Epoch 6/8\n",
            "810/810 [==============================] - 0s 585us/step - loss: 0.4097 - accuracy: 0.8012 - val_loss: 0.3991 - val_accuracy: 0.8276\n",
            "Epoch 7/8\n",
            "810/810 [==============================] - 0s 603us/step - loss: 0.4321 - accuracy: 0.7963 - val_loss: 0.5006 - val_accuracy: 0.7759\n",
            "Epoch 8/8\n",
            "810/810 [==============================] - 0s 576us/step - loss: 0.4069 - accuracy: 0.8136 - val_loss: 0.4351 - val_accuracy: 0.7845\n",
            "116/116 [==============================] - 0s 81us/step\n",
            "Acurracy on validation data:  0.7844827771186829\n",
            "fold:  7\n",
            "Train on 811 samples, validate on 115 samples\n",
            "Epoch 1/8\n",
            "811/811 [==============================] - 0s 607us/step - loss: 0.4452 - accuracy: 0.7855 - val_loss: 0.3754 - val_accuracy: 0.8261\n",
            "Epoch 2/8\n",
            "811/811 [==============================] - 0s 575us/step - loss: 0.3954 - accuracy: 0.8163 - val_loss: 0.4061 - val_accuracy: 0.8261\n",
            "Epoch 3/8\n",
            "811/811 [==============================] - 0s 580us/step - loss: 0.4097 - accuracy: 0.8187 - val_loss: 0.4214 - val_accuracy: 0.8261\n",
            "Epoch 4/8\n",
            "811/811 [==============================] - 0s 588us/step - loss: 0.4050 - accuracy: 0.8163 - val_loss: 0.4239 - val_accuracy: 0.8261\n",
            "Epoch 5/8\n",
            "811/811 [==============================] - 0s 582us/step - loss: 0.4033 - accuracy: 0.8101 - val_loss: 0.3962 - val_accuracy: 0.8174\n",
            "Epoch 6/8\n",
            "811/811 [==============================] - 0s 586us/step - loss: 0.3817 - accuracy: 0.8323 - val_loss: 0.4352 - val_accuracy: 0.7739\n",
            "Epoch 7/8\n",
            "811/811 [==============================] - 0s 579us/step - loss: 0.3874 - accuracy: 0.8249 - val_loss: 0.4838 - val_accuracy: 0.8261\n",
            "Epoch 8/8\n",
            "811/811 [==============================] - 0s 584us/step - loss: 0.3722 - accuracy: 0.8274 - val_loss: 0.4601 - val_accuracy: 0.8087\n",
            "115/115 [==============================] - 0s 84us/step\n",
            "Acurracy on validation data:  0.8086956739425659\n",
            "fold:  8\n",
            "Train on 811 samples, validate on 115 samples\n",
            "Epoch 1/8\n",
            "811/811 [==============================] - 0s 607us/step - loss: 0.3599 - accuracy: 0.8298 - val_loss: 0.3302 - val_accuracy: 0.8522\n",
            "Epoch 2/8\n",
            "811/811 [==============================] - 0s 582us/step - loss: 0.3754 - accuracy: 0.8212 - val_loss: 0.3979 - val_accuracy: 0.8087\n",
            "Epoch 3/8\n",
            "811/811 [==============================] - 0s 577us/step - loss: 0.3848 - accuracy: 0.8101 - val_loss: 0.4521 - val_accuracy: 0.8174\n",
            "Epoch 4/8\n",
            "811/811 [==============================] - 0s 596us/step - loss: 0.3935 - accuracy: 0.8163 - val_loss: 0.3938 - val_accuracy: 0.8435\n",
            "Epoch 5/8\n",
            "811/811 [==============================] - 0s 572us/step - loss: 0.3425 - accuracy: 0.8409 - val_loss: 0.4254 - val_accuracy: 0.7826\n",
            "Epoch 6/8\n",
            "811/811 [==============================] - 0s 581us/step - loss: 0.3843 - accuracy: 0.8471 - val_loss: 0.4506 - val_accuracy: 0.8087\n",
            "Epoch 7/8\n",
            "811/811 [==============================] - 0s 573us/step - loss: 0.3800 - accuracy: 0.8348 - val_loss: 0.4564 - val_accuracy: 0.8435\n",
            "Epoch 8/8\n",
            "811/811 [==============================] - 0s 590us/step - loss: 0.3984 - accuracy: 0.8101 - val_loss: 0.5189 - val_accuracy: 0.8087\n",
            "115/115 [==============================] - 0s 78us/step\n",
            "Acurracy on validation data:  0.8086956739425659\n",
            " Mean Accurracy:  0.746354952454567\n"
          ],
          "name": "stdout"
        }
      ]
    },
    {
      "cell_type": "code",
      "metadata": {
        "id": "IFuQa9sxnuB4",
        "colab_type": "code",
        "colab": {}
      },
      "source": [
        "#7.save model\n",
        "model.save('CK+Git_JAFFE_test.h5')"
      ],
      "execution_count": 0,
      "outputs": []
    },
    {
      "cell_type": "code",
      "metadata": {
        "id": "RR8DnZbYoBwZ",
        "colab_type": "code",
        "outputId": "fde76937-4ce7-407c-f0ca-0df99cfd8761",
        "colab": {
          "base_uri": "https://localhost:8080/",
          "height": 34
        }
      },
      "source": [
        "import shutil\n",
        "shutil.copy('CK+Git_JAFFE_test.h5', '/content/gdrive/My Drive/Machine learing/Test/Final Pr_3/Result/model') "
      ],
      "execution_count": 0,
      "outputs": [
        {
          "output_type": "execute_result",
          "data": {
            "text/plain": [
              "'/content/gdrive/My Drive/Machine learing/Test/Final Pr_3/Result/model/CK+Git_JAFFE_test.h5'"
            ]
          },
          "metadata": {
            "tags": []
          },
          "execution_count": 13
        }
      ]
    },
    {
      "cell_type": "code",
      "metadata": {
        "id": "8PuQVMbZoQ6T",
        "colab_type": "code",
        "colab": {}
      },
      "source": [
        "import tensorflow as tf\n",
        "reloaded_model = tf.keras.models.load_model('/content/gdrive/My Drive/Machine learing/Test/Final Pr_3/Result/model/CK+Git_JAFFE_test.h5')"
      ],
      "execution_count": 0,
      "outputs": []
    },
    {
      "cell_type": "code",
      "metadata": {
        "id": "qXntwzW5l3n4",
        "colab_type": "code",
        "outputId": "679420fd-b325-4a07-d2a2-e679be464f26",
        "colab": {
          "base_uri": "https://localhost:8080/",
          "height": 51
        }
      },
      "source": [
        "#7. Predict  chi tiet cua data 6E Train,test, CK+  8-fold, epochs 2000\n",
        "#7. Draw matrix result\n",
        "#7.1.Luu test samples da dung truoc do\n",
        "import itertools\n",
        "import numpy as np\n",
        "import matplotlib.pyplot as plt\n",
        "from sklearn.metrics import confusion_matrix\n",
        "\n",
        "np.save('modXtest',x_test)\n",
        "np.save('modytest',y_test)\n",
        "#7.2.Load du lieu \n",
        "truey=[]\n",
        "predy=[]\n",
        "x= np.load('./modXtest.npy')\n",
        "y= np.load('./modytest.npy')\n",
        "ypredict = reloaded_model.predict(x)\n",
        "results_reload = reloaded_model.evaluate(x, y)\n",
        "#print(\"test loss, test accuracy\", results_reload)\n",
        "\n",
        "y_result = np.argmax(ypredict, axis=1) \n",
        "print(\"y result shape:\", len(y_result))\n",
        "print(\"y result: \", y_result)\n",
        "y_label = [np.argmax(x) for x in y]\n",
        "print(\"y_label: \", y_label)\n",
        "predy = y_result\n",
        "true_y = y_label \n",
        "\n",
        "np.save('truey', y_label)\n",
        "np.save('predy', y_result)"
      ],
      "execution_count": 0,
      "outputs": [
        {
          "output_type": "stream",
          "text": [
            "8/8 [==============================] - 0s 4ms/step - loss: 0.6107 - accuracy: 0.7446\n",
            "test loss, test accuracy [0.6106612682342529, 0.7445887327194214]\n"
          ],
          "name": "stdout"
        }
      ]
    },
    {
      "cell_type": "code",
      "metadata": {
        "id": "Q25Aim21rnzf",
        "colab_type": "code",
        "outputId": "08f67a43-c4ca-4e7c-f5d7-fabc8748831b",
        "colab": {
          "base_uri": "https://localhost:8080/",
          "height": 241
        }
      },
      "source": [
        "import numpy as np\n",
        "print(\"x shape: \", x.shape)\n",
        "print(\"x 0: \", x[0].shape)\n",
        "# print(\"y predict: \", ypredict)\n",
        "print(\"y predict shape: \", ypredict.shape)\n",
        "#  lay label\n",
        "y_result = np.argmax(ypredict, axis=1) \n",
        "print(\"y result shape:\", len(y_result))\n",
        "print(\"y result: \", y_result)\n",
        "y_label = [np.argmax(x) for x in y]\n",
        "print(\"y_label: \", y_label)\n",
        "predy = y_result\n",
        "true_y = y_label \n",
        "\n",
        "np.save('truey', y_label)\n",
        "np.save('predy', y_result)"
      ],
      "execution_count": 0,
      "outputs": [
        {
          "output_type": "stream",
          "text": [
            "x shape:  (231, 32, 32, 3)\n",
            "x 0:  (32, 32, 3)\n",
            "y predict shape:  (231, 6)\n",
            "y result shape: 231\n",
            "y result:  [0 5 3 0 1 1 2 3 5 5 5 3 5 3 2 4 3 5 5 1 5 1 3 5 5 4 5 3 5 3 0 2 3 1 1 1 3\n",
            " 1 3 1 5 2 5 5 3 3 3 1 5 0 2 1 1 4 0 5 3 1 3 5 0 3 3 3 1 1 1 1 5 3 1 0 5 1\n",
            " 3 5 1 5 3 5 5 5 1 3 2 1 2 0 3 1 2 1 1 0 0 5 5 0 3 1 3 1 5 1 3 3 5 5 1 3 3\n",
            " 2 1 5 1 3 5 5 1 1 1 0 3 3 3 1 3 3 3 3 1 5 1 0 5 1 5 1 5 0 3 0 1 0 3 3 3 1\n",
            " 1 1 5 1 0 2 2 5 1 3 1 2 2 1 5 5 1 3 1 5 0 1 3 1 1 3 5 3 5 0 0 3 2 0 3 1 5\n",
            " 5 5 5 5 0 5 3 3 5 3 1 3 1 0 1 4 1 5 1 3 3 0 5 1 1 1 5 3 5 5 5 5 5 5 3 5 1\n",
            " 5 5 5 2 3 2 3 5 5]\n",
            "y_label:  [0, 5, 5, 0, 1, 1, 3, 3, 5, 4, 4, 1, 5, 4, 2, 4, 3, 5, 5, 1, 5, 1, 3, 5, 5, 5, 1, 2, 5, 3, 0, 3, 3, 2, 1, 1, 3, 1, 3, 1, 4, 2, 4, 5, 3, 1, 3, 1, 5, 0, 2, 1, 1, 5, 0, 4, 3, 1, 1, 1, 0, 3, 3, 2, 1, 0, 1, 1, 5, 2, 1, 0, 4, 1, 3, 4, 1, 5, 3, 5, 5, 3, 1, 2, 2, 1, 2, 0, 2, 1, 3, 1, 1, 0, 0, 5, 5, 0, 3, 1, 3, 1, 5, 1, 2, 2, 4, 5, 1, 3, 3, 3, 1, 5, 1, 3, 5, 5, 1, 1, 0, 0, 3, 3, 3, 1, 5, 4, 3, 2, 1, 5, 1, 1, 5, 1, 5, 1, 5, 0, 3, 0, 1, 0, 2, 3, 3, 1, 1, 0, 5, 1, 0, 3, 3, 5, 1, 3, 1, 2, 2, 1, 4, 5, 1, 3, 1, 4, 0, 1, 3, 1, 1, 2, 5, 3, 5, 0, 0, 1, 3, 0, 5, 1, 5, 5, 5, 5, 5, 0, 4, 3, 3, 5, 3, 1, 3, 1, 0, 1, 4, 1, 4, 1, 2, 3, 0, 4, 1, 1, 1, 5, 3, 5, 5, 4, 5, 4, 4, 3, 5, 0, 1, 5, 5, 3, 3, 2, 2, 4, 3]\n"
          ],
          "name": "stdout"
        }
      ]
    },
    {
      "cell_type": "code",
      "metadata": {
        "id": "Nb3tg1ZxrdYX",
        "colab_type": "code",
        "outputId": "190f6451-e87e-4b73-9294-d4e7d1e36ece",
        "colab": {
          "base_uri": "https://localhost:8080/",
          "height": 399
        }
      },
      "source": [
        "y_true = np.load('./truey.npy')\n",
        "y_pred = np.load('./predy.npy')\n",
        "cm = confusion_matrix(y_true, y_pred)\n",
        "labels = ['anger', 'surprise', 'sadness', 'happy', 'fear', 'disgust']\n",
        "title='Confusion matrix'\n",
        "print(cm)\n",
        "\n",
        "plt.imshow(cm, interpolation='nearest', cmap=plt.cm.Blues)\n",
        "plt.title(title)\n",
        "plt.colorbar()\n",
        "tick_marks = np.arange(len(labels))\n",
        "plt.xticks(tick_marks, labels, rotation=45)\n",
        "plt.yticks(tick_marks, labels)\n",
        "fmt = 'd'\n",
        "thresh = cm.max() / 2.\n",
        "for i, j in itertools.product(range(cm.shape[0]), range(cm.shape[1])):\n",
        "    plt.text(j, i, format(cm[i, j], fmt),\n",
        "            horizontalalignment=\"center\",\n",
        "            color=\"white\" if cm[i, j] > thresh else \"black\")\n",
        "\n",
        "plt.ylabel('True label')\n",
        "plt.xlabel('Predicted label')\n",
        "plt.tight_layout()\n",
        "plt.show()"
      ],
      "execution_count": 0,
      "outputs": [
        {
          "output_type": "stream",
          "text": [
            "[[23  4  0  0  0  0]\n",
            " [ 1 57  0  4  0  3]\n",
            " [ 0  1  8 12  0  0]\n",
            " [ 0  0  8 38  0  2]\n",
            " [ 0  0  0  2  2 17]\n",
            " [ 0  0  0  3  2 44]]\n"
          ],
          "name": "stdout"
        },
        {
          "output_type": "display_data",
          "data": {
            "image/png": "[encoded data removed]",
            "text/plain": [
              "<Figure size 432x288 with 2 Axes>"
            ]
          },
          "metadata": {
            "tags": [],
            "needs_background": "light"
          }
        }
      ]
    },
    {
      "cell_type": "code",
      "metadata": {
        "id": "-ja2C2tigzxe",
        "colab_type": "code",
        "outputId": "1ca4283a-c968-45b0-9b3d-908247a9200c",
        "colab": {
          "base_uri": "https://localhost:8080/",
          "height": 323
        }
      },
      "source": [
        "#8. 6 E 8-fold: JAFFE\n",
        "# Load data JAFFE\n",
        "#Define Datapath\n",
        "test_path = '/content/gdrive/My Drive/Machine learing/Pre-process/JAFFE_6E'\n",
        "test_dir_list = os.listdir(test_path)\n",
        "img_test_list=[]\n",
        "random.seed(10)\n",
        "for dataset in test_dir_list:\n",
        "    img_list=os.listdir(test_path+'/'+ dataset)\n",
        "    print ('Load dataset-'+'{}\\n'.format(dataset))\n",
        "    print(\"Tong cac anh trong \",dataset,\"la: \",len(img_list))\n",
        "    for img in img_list:\n",
        "        input_img=cv2.imread(test_path + '/'+ dataset + '/'+ img )\n",
        "        #input_img=cv2.cvtColor(input_img, cv2.COLOR_BGR2GRAY)        \n",
        "        input_img_resize=cv2.resize(input_img,(32,32))\n",
        "        img_test_list.append(input_img_resize)\n",
        "        \n",
        "Jaffe_test_data = np.array(img_test_list)\n",
        "Jaffe_test_data = Jaffe_test_data.astype('float32')\n",
        "Jaffe_test_data = Jaffe_test_data/255\n"
      ],
      "execution_count": 0,
      "outputs": [
        {
          "output_type": "stream",
          "text": [
            "Load dataset-surprise\n",
            "\n",
            "Tong cac anh trong  surprise la:  30\n",
            "Load dataset-disgust\n",
            "\n",
            "Tong cac anh trong  disgust la:  29\n",
            "Load dataset-anger\n",
            "\n",
            "Tong cac anh trong  anger la:  30\n",
            "Load dataset-fear\n",
            "\n",
            "Tong cac anh trong  fear la:  32\n",
            "Load dataset-sadness\n",
            "\n",
            "Tong cac anh trong  sadness la:  31\n",
            "Load dataset-happiness\n",
            "\n",
            "Tong cac anh trong  happiness la:  31\n"
          ],
          "name": "stdout"
        }
      ]
    },
    {
      "cell_type": "code",
      "metadata": {
        "id": "6ZBAwQlizfFm",
        "colab_type": "code",
        "colab": {}
      },
      "source": [
        "#9. Parameters\n",
        "\n",
        "#define number of classes\n",
        "\n",
        "num_of_samples = Jaffe_test_data.shape[0]\n",
        "labels_test = np.ones((num_of_samples,),dtype='int64')\n",
        "\n",
        "labels_test[0:29]=1 #30 #anger la:  30\n",
        "labels_test[30:58]=5 #29 # disgust la:  29\n",
        "labels_test[59:90]=0 #32 #fear la:  32\n",
        "labels_test[121:151]=4 #30 #sadness la:  31\n",
        "labels_test[152:182]=2 #31 #happiness la:  31\n",
        "labels_test[183:212]=3 #30 #surprise la:  30\n",
        "\n",
        "\n",
        "# convert class labels to on-hot encoding# conve \n",
        "JF_labels = np_utils.to_categorical(labels_test, num_classes)\n",
        "random.seed(10)\n",
        "#Shuffle the dataset\n",
        "Jaffe_data,Jaffe_labels = shuffle(Jaffe_test_data,JF_labels, random_state=2)"
      ],
      "execution_count": 0,
      "outputs": []
    },
    {
      "cell_type": "code",
      "metadata": {
        "id": "IS8bXVsF4xPs",
        "colab_type": "code",
        "outputId": "80c23ec1-2d1b-4a18-9b43-e7cfd5a5a75c",
        "colab": {
          "base_uri": "https://localhost:8080/",
          "height": 51
        }
      },
      "source": [
        "print(Jaffe_data.shape)\n",
        "print(Jaffe_labels.shape)"
      ],
      "execution_count": 0,
      "outputs": [
        {
          "output_type": "stream",
          "text": [
            "(183, 128, 128, 3)\n",
            "(183, 6)\n"
          ],
          "name": "stdout"
        }
      ]
    },
    {
      "cell_type": "code",
      "metadata": {
        "id": "lOiQzWiuxP2q",
        "colab_type": "code",
        "outputId": "9cae29ec-310d-4e93-d968-ac6c2c31e625",
        "colab": {
          "base_uri": "https://localhost:8080/",
          "height": 173
        }
      },
      "source": [
        "#names = ['anger','surprise','sadness','happy','fear','disgust']\n",
        "#10. Draw matrix result JAFFE test\n",
        "#10.1.Luu test samples da dung truoc do\n",
        "np.save('modXtest_jf',Jaffe_data)\n",
        "np.save('modytest_jf',Jaffe_labels)\n",
        "#7.2.Load du lieu \n",
        "truey_jf=[]\n",
        "predy_jf=[]\n",
        "x_jf= np.load('./modXtest_jf.npy')\n",
        "y_jf= np.load('./modytest_jf.npy')\n",
        "ypredict_jf = reloaded_model.predict(x_jf)\n",
        "results_reload = reloaded_model.evaluate(x_jf, y_jf)\n",
        "#print(\"test loss, test accuracy\", results_reload)\n",
        "\n",
        "y_result_jf = np.argmax(ypredict_jf, axis=1) \n",
        "print(\"y result shape:\", len(y_result_jf))\n",
        "print(\"y result: \", y_result_jf)\n",
        "y_label_jf = [np.argmax(x_jf) for x_jf in y_jf]\n",
        "print(\"y_label: \", y_label_jf)\n",
        "predy_jf = y_result_jf\n",
        "true_y_jf = y_label_jf \n",
        "\n",
        "np.save('truey', y_label_jf)\n",
        "np.save('predy_jf', y_result_jf)"
      ],
      "execution_count": 0,
      "outputs": [
        {
          "output_type": "stream",
          "text": [
            "6/6 [==============================] - 0s 3ms/step - loss: 13.9960 - accuracy: 0.1858\n",
            "y result shape: 183\n",
            "y result:  [4 1 5 1 5 1 5 5 1 1 1 1 1 1 1 4 2 4 1 1 1 5 5 5 5 5 5 5 1 5 1 1 5 4 1 1 4\n",
            " 1 4 1 5 5 5 1 1 3 1 5 1 5 5 5 4 5 5 5 5 4 1 1 1 1 1 1 2 1 5 5 5 1 3 1 4 4\n",
            " 5 5 3 1 4 4 1 1 1 5 1 5 0 3 1 5 4 1 5 5 1 4 1 1 4 1 1 1 4 5 1 1 4 1 1 5 1\n",
            " 1 1 1 1 4 4 1 5 4 5 5 1 5 5 5 1 5 5 1 5 5 1 1 1 4 5 1 5 1 1 1 1 1 1 5 5 5\n",
            " 1 1 1 1 1 5 1 5 3 5 1 5 5 1 1 1 1 5 4 5 1 5 1 1 3 5 1 5 5 1 1 5 5 5 1]\n",
            "y_label:  [1, 2, 1, 4, 1, 5, 2, 1, 4, 5, 5, 2, 0, 1, 2, 1, 2, 1, 1, 5, 2, 1, 1, 0, 1, 4, 0, 1, 1, 5, 5, 2, 0, 1, 0, 1, 1, 4, 1, 2, 1, 1, 5, 2, 4, 5, 1, 1, 4, 4, 1, 4, 1, 1, 4, 1, 5, 0, 0, 1, 4, 2, 2, 2, 2, 2, 2, 4, 0, 5, 2, 1, 0, 1, 1, 4, 4, 2, 1, 4, 4, 4, 0, 5, 4, 1, 0, 2, 1, 1, 1, 1, 2, 1, 5, 1, 4, 1, 1, 2, 0, 4, 4, 4, 2, 0, 1, 0, 1, 1, 4, 1, 0, 0, 4, 0, 1, 0, 5, 1, 4, 0, 0, 1, 1, 1, 0, 5, 5, 0, 1, 5, 2, 1, 0, 1, 1, 0, 1, 4, 2, 4, 5, 5, 2, 4, 5, 5, 0, 2, 4, 2, 5, 0, 0, 0, 2, 1, 5, 5, 1, 5, 1, 1, 1, 5, 1, 4, 4, 5, 0, 5, 2, 1, 2, 1, 1, 0, 5, 1, 0, 1, 2]\n"
          ],
          "name": "stdout"
        }
      ]
    },
    {
      "cell_type": "code",
      "metadata": {
        "id": "LT_L1Rvx17Kx",
        "colab_type": "code",
        "outputId": "8150fc88-ef99-4590-81c7-e6519b137a3c",
        "colab": {
          "base_uri": "https://localhost:8080/",
          "height": 207
        }
      },
      "source": [
        "import numpy as np\n",
        "print(\"x shape: \", x_jf.shape)\n",
        "print(\"x_jf 0: \", x_jf[0].shape)\n",
        "# print(\"y predict: \", ypredict)\n",
        "print(\"y predict shape: \", ypredict_jf.shape)\n",
        "#  lay label\n",
        "y_result_jf = np.argmax(ypredict_jf, axis=1) \n",
        "print(\"y result shape:\", len(y_result_jf))\n",
        "print(\"y result: \", y_result_jf)\n",
        "y_label_jf = [np.argmax(x_jf) for x_jf in y_jf]\n",
        "print(\"y_label: \", y_label_jf)\n",
        "predy_jf = y_result_jf\n",
        "true_y_jf = y_label_jf\n",
        "\n",
        "np.save('truey_jf', y_label_jf)\n",
        "np.save('predy_jf', y_result_jf)"
      ],
      "execution_count": 0,
      "outputs": [
        {
          "output_type": "stream",
          "text": [
            "x shape:  (183, 32, 32, 3)\n",
            "x_jf 0:  (32, 32, 3)\n",
            "y predict shape:  (183, 6)\n",
            "y result shape: 183\n",
            "y result:  [4 1 5 1 5 1 5 5 1 1 1 1 1 1 1 4 2 4 1 1 1 5 5 5 5 5 5 5 1 5 1 1 5 4 1 1 4\n",
            " 1 4 1 5 5 5 1 1 3 1 5 1 5 5 5 4 5 5 5 5 4 1 1 1 1 1 1 2 1 5 5 5 1 3 1 4 4\n",
            " 5 5 3 1 4 4 1 1 1 5 1 5 0 3 1 5 4 1 5 5 1 4 1 1 4 1 1 1 4 5 1 1 4 1 1 5 1\n",
            " 1 1 1 1 4 4 1 5 4 5 5 1 5 5 5 1 5 5 1 5 5 1 1 1 4 5 1 5 1 1 1 1 1 1 5 5 5\n",
            " 1 1 1 1 1 5 1 5 3 5 1 5 5 1 1 1 1 5 4 5 1 5 1 1 3 5 1 5 5 1 1 5 5 5 1]\n",
            "y_label:  [1, 2, 1, 4, 1, 5, 2, 1, 4, 5, 5, 2, 0, 1, 2, 1, 2, 1, 1, 5, 2, 1, 1, 0, 1, 4, 0, 1, 1, 5, 5, 2, 0, 1, 0, 1, 1, 4, 1, 2, 1, 1, 5, 2, 4, 5, 1, 1, 4, 4, 1, 4, 1, 1, 4, 1, 5, 0, 0, 1, 4, 2, 2, 2, 2, 2, 2, 4, 0, 5, 2, 1, 0, 1, 1, 4, 4, 2, 1, 4, 4, 4, 0, 5, 4, 1, 0, 2, 1, 1, 1, 1, 2, 1, 5, 1, 4, 1, 1, 2, 0, 4, 4, 4, 2, 0, 1, 0, 1, 1, 4, 1, 0, 0, 4, 0, 1, 0, 5, 1, 4, 0, 0, 1, 1, 1, 0, 5, 5, 0, 1, 5, 2, 1, 0, 1, 1, 0, 1, 4, 2, 4, 5, 5, 2, 4, 5, 5, 0, 2, 4, 2, 5, 0, 0, 0, 2, 1, 5, 5, 1, 5, 1, 1, 1, 5, 1, 4, 4, 5, 0, 5, 2, 1, 2, 1, 1, 0, 5, 1, 0, 1, 2]\n"
          ],
          "name": "stdout"
        }
      ]
    },
    {
      "cell_type": "code",
      "metadata": {
        "id": "reHlmrrC1-eg",
        "colab_type": "code",
        "outputId": "9a5aee35-a72d-457b-9aea-cf05eed9d2fb",
        "colab": {
          "base_uri": "https://localhost:8080/",
          "height": 399
        }
      },
      "source": [
        "y_true_jf = np.load('./truey_jf.npy')\n",
        "y_pred_jf = np.load('./predy_jf.npy')\n",
        "cm = confusion_matrix(y_true_jf, y_pred_jf)\n",
        "labels = ['anger', 'surprise', 'sadness', 'happy', 'fear', 'disgust']\n",
        "title='Confusion matrix Jaffe'\n",
        "print(cm)\n",
        "\n",
        "plt.imshow(cm, interpolation='nearest', cmap=plt.cm.Blues)\n",
        "plt.title(title)\n",
        "plt.colorbar()\n",
        "tick_marks = np.arange(len(labels))\n",
        "plt.xticks(tick_marks, labels, rotation=45)\n",
        "plt.yticks(tick_marks, labels)\n",
        "fmt = 'd'\n",
        "thresh = cm.max() / 2.\n",
        "for i, j in itertools.product(range(cm.shape[0]), range(cm.shape[1])):\n",
        "    plt.text(j, i, format(cm[i, j], fmt),\n",
        "            horizontalalignment=\"center\",\n",
        "            color=\"white\" if cm[i, j] > thresh else \"black\")\n",
        "\n",
        "plt.ylabel('True label')\n",
        "plt.xlabel('Predicted label')\n",
        "plt.tight_layout()\n",
        "plt.show()"
      ],
      "execution_count": 0,
      "outputs": [
        {
          "output_type": "stream",
          "text": [
            "[[ 1 19  0  0  3  8]\n",
            " [ 0 16  0  0 17 31]\n",
            " [ 0 21  2  4  0  3]\n",
            " [ 0  0  0  0  0  0]\n",
            " [ 0 17  0  1  2 10]\n",
            " [ 0 14  0  1  0 13]]\n"
          ],
          "name": "stdout"
        },
        {
          "output_type": "display_data",
          "data": {
            "image/png": "[encoded data removed]",
            "text/plain": [
              "<Figure size 432x288 with 2 Axes>"
            ]
          },
          "metadata": {
            "tags": [],
            "needs_background": "light"
          }
        }
      ]
    }
  ]
}